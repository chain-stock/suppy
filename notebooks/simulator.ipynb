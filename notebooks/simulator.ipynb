{
 "cells": [
  {
   "cell_type": "markdown",
   "metadata": {},
   "source": [
    "## Supply Chain simulation demo\n",
    "\n",
    "This notebook uses the supplychain-simulation package contained in this repository.\n",
    "If jupyter was started with the project virtualenv (`poetry run jupyter lab`) the package is availabe.\n",
    "If not you'll have to make sure the package is installed in the kernel you are using.\n",
    "\n",
    "Jupyter will not pick up any changes made to the package automatically.  \n",
    "To load your changes into the notebook:\n",
    "1) restart the kernel (so the newly installed package is re-loaded)\n",
    "2) run the following cell"
   ]
  },
  {
   "cell_type": "code",
   "execution_count": null,
   "metadata": {},
   "outputs": [],
   "source": [
    "%pip install ../"
   ]
  },
  {
   "cell_type": "code",
   "execution_count": null,
   "metadata": {},
   "outputs": [],
   "source": [
    "from supplychain_simulation import SupplyChain, Node, Sales, LeadTime, Edge, Simulator\n",
    "from supplychain_simulation.node import Orders, Stock\n",
    "from supplychain_simulation.pipeline import Pipeline, Receipt\n",
    "from supplychain_simulation.strategy import RSQ, Fractional"
   ]
  },
  {
   "cell_type": "markdown",
   "metadata": {},
   "source": [
    "### Define the supply chain.\n",
    "\n",
    "The only manadtory field for a Node is it's `id`.\n",
    "\n",
    "#### Sales\n",
    "To simulate demand over time for a node, you can provide the `sales` field with an object that defines a `pop_sales(period: int)` method returning the sales for that period.  \n",
    "A convenience class `Sales` is provided to cover most non-dynamic use cases.\n",
    "It accepts a dict where the key is the period and the value is the sales for that period.\n",
    "\n",
    "#### Lead-time\n",
    "To simulate changes in lead-time over time for a node, you can provide the `lead_time` field with an object that defines a `get_lead_time(period: int)` method returning the lead-time for that period.  \n",
    "A conveniance class `LeadTime` is provided to cover most non-dynamic use cases.\n",
    "It accepts a dict where the key is the period and the value is the lead-time for that period.\n",
    "in addition it also accepts a `default` that will be used for any undefined period.\n",
    "\n",
    "#### Edges\n",
    "The edges can be defined in two ways, through `Node.predecessors` and/or through `SupplyChain.edges`.\n",
    "If both are present they will both be applied to the supplychain with `Node.predecessors` taking precedence.\n",
    "\n",
    "If an `Edge` is defined while the corresponding `Node`'s don't exist, an error will be raised.\n"
   ]
  },
  {
   "cell_type": "code",
   "execution_count": null,
   "metadata": {},
   "outputs": [],
   "source": [
    "supply_chain = SupplyChain(\n",
    "        nodes=[\n",
    "            Node(\n",
    "                \"A\",\n",
    "                data=dict(\n",
    "                    order_quantity=30,\n",
    "                    reorder_level=25,\n",
    "                    review_time=1,\n",
    "                    safety_stock=1,\n",
    "                ),\n",
    "                llc=0,\n",
    "                sales=Sales({1: [5,5], 2: [10], 3: [10]}),\n",
    "                lead_time=LeadTime(default=1),\n",
    "                stock=Stock({\"A\": 7, \"C\": 5}),\n",
    "                pipeline=Pipeline([Receipt(sku_code=\"D\", eta=0, quantity=35)]),\n",
    "            ),\n",
    "            Node(\n",
    "                \"B\",\n",
    "                data=dict(\n",
    "                    order_quantity=25,\n",
    "                    reorder_level=40,\n",
    "                    review_time=1,\n",
    "                ),\n",
    "                llc=0,\n",
    "                sales=Sales({1: [15], 2: [15], 3: [15]}),\n",
    "                lead_time=LeadTime(default=2),\n",
    "                pipeline=Pipeline([Receipt(sku_code=\"D\", eta=1, quantity=75)]),\n",
    "                backorders=5,\n",
    "            ),\n",
    "            Node(\n",
    "                \"C\",\n",
    "                data=dict(\n",
    "                    order_quantity=150,\n",
    "                    reorder_level=20,\n",
    "                    review_time=1,\n",
    "                ),\n",
    "                llc=1,\n",
    "                lead_time=LeadTime({1: 3, 2: 7}, default=3),\n",
    "                stock=Stock({\"C\": 200}),\n",
    "            ),\n",
    "            Node(\n",
    "                \"D\",\n",
    "                data=dict(\n",
    "                    order_quantity=200,\n",
    "                    reorder_level=20,\n",
    "                    review_time=2,\n",
    "                ),\n",
    "                llc=1,\n",
    "                lead_time=LeadTime(default=4),\n",
    "                orders=Orders({\"B\": 15}),\n",
    "                stock=Stock({\"D\": 40}),\n",
    "                pipeline=Pipeline([Receipt(sku_code=\"D\", eta=2, quantity=200)]),\n",
    "            ),\n",
    "        ],\n",
    "        edges=[\n",
    "            Edge(source=\"C\", destination=\"A\", number=2),\n",
    "            Edge(source=\"D\", destination=\"A\", number=1),\n",
    "            Edge(source=\"D\", destination=\"B\", number=3),\n",
    "        ],\n",
    "    )"
   ]
  },
  {
   "cell_type": "markdown",
   "metadata": {},
   "source": [
    "Keep in mind the simulation alters the supply-chain in-place so running the simulator twice on the same object might not give the same results."
   ]
  },
  {
   "cell_type": "code",
   "execution_count": null,
   "metadata": {},
   "outputs": [],
   "source": [
    "sim = Simulator(\n",
    "    supply_chain,\n",
    "    control_strategy=RSQ(supply_chain),\n",
    "    release_strategy=Fractional(),\n",
    "    filename=\"output/simulator\",\n",
    ")"
   ]
  },
  {
   "cell_type": "code",
   "execution_count": null,
   "metadata": {},
   "outputs": [],
   "source": [
    "sim.run(10)"
   ]
  },
  {
   "cell_type": "code",
   "execution_count": null,
   "metadata": {},
   "outputs": [],
   "source": [
    "for file in sim.output:\n",
    "    print(file)"
   ]
  },
  {
   "cell_type": "code",
   "execution_count": null,
   "metadata": {},
   "outputs": [],
   "source": []
  }
 ],
 "metadata": {
  "language_info": {
   "name": "python"
  }
 },
 "nbformat": 4,
 "nbformat_minor": 4
}
