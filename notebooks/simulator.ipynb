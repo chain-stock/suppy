{
 "cells": [
  {
   "cell_type": "markdown",
   "metadata": {},
   "source": [
    "## Supply Chain simulation demo\n",
    "\n",
    "This notebook uses the supplychain-simulation package contained in this repository.\n",
    "To install the simulator into the current kernel, run the next cell.\n",
    "\n",
    "Jupyter will not pick up any changes made to the package automatically.  \n",
    "To load your changes into the notebook:\n",
    "1) run the next cell\n",
    "2) restart the kernel (so the newly installed package is re-loaded)"
   ]
  },
  {
   "cell_type": "code",
   "execution_count": null,
   "metadata": {},
   "outputs": [],
   "source": [
    "! pip install ../"
   ]
  },
  {
   "cell_type": "code",
   "execution_count": null,
   "metadata": {},
   "outputs": [],
   "source": [
    "from supplychain_simulation import SupplyChain, Node, Sales, LeadTime, Edge, Simulator\n",
    "from supplychain_simulation.node import Orders, Stock\n",
    "from supplychain_simulation.pipeline import Pipeline, Receipt\n",
    "from supplychain_simulation.strategy import RSQ, Fractional"
   ]
  },
  {
   "cell_type": "markdown",
   "metadata": {},
   "source": [
    "### Define the supply chain.\n",
    "\n",
    "The only manadtory field for a Node is it's `id`.\n",
    "\n",
    "#### Sales\n",
    "To simulate demand over time for a node, you can provide the `sales` field with an object that defines a `pop_sales(period: int)` method returning the sales for that period.  \n",
    "A convenience class `Sales` is provided to cover most non-dynamic use cases.\n",
    "It accepts a dict where the key is the period and the value is the sales for that period.\n",
    "\n",
    "#### Lead-time\n",
    "To simulate changes in lead-time over time for a node, you can provide the `lead_time` field with an object that defines a `get_lead_time(period: int)` method returning the lead-time for that period.  \n",
    "A conveniance class `LeadTime` is provided to cover most non-dynamic use cases.\n",
    "It accepts a dict where the key is the period and the value is the lead-time for that period.\n",
    "in addition it also accepts a `default` that will be used for any undefined period.\n",
    "\n",
    "#### Edges\n",
    "The edges can be defined in two ways, through `Node.predecessors` and/or through `SupplyChain.edges`.\n",
    "If both are present they will both be applied to the supplychain with `Node.predecessors` taking precedence.\n",
    "\n",
    "If an `Edge` is defined while the corresponding `Node`'s don't exist, an error will be raised.\n"
   ]
  },
  {
   "cell_type": "code",
   "execution_count": null,
   "metadata": {},
   "outputs": [],
   "source": [
    "supply_chain = SupplyChain(\n",
    "        nodes=[\n",
    "            Node(\n",
    "                \"A\",\n",
    "                data=dict(\n",
    "                    order_quantity=30,\n",
    "                    reorder_level=25,\n",
    "                    review_time=1,\n",
    "                    safety_stock=1,\n",
    "                ),\n",
    "                llc=0,\n",
    "                sales=Sales({1: [10], 2: [10], 3: [10]}),\n",
    "                lead_time=LeadTime(default=1),\n",
    "                stock=Stock({\"A\": 7, \"C\": 5}),\n",
    "                pipeline=Pipeline([Receipt(sku_code=\"D\", eta=0, quantity=35)]),\n",
    "            ),\n",
    "            Node(\n",
    "                \"B\",\n",
    "                data=dict(\n",
    "                    order_quantity=25,\n",
    "                    reorder_level=40,\n",
    "                    review_time=1,\n",
    "                ),\n",
    "                llc=0,\n",
    "                sales=Sales({1: [15], 2: [15], 3: [15]}),\n",
    "                lead_time=LeadTime(default=2),\n",
    "                pipeline=Pipeline([Receipt(sku_code=\"D\", eta=1, quantity=75)]),\n",
    "                backorders=5,\n",
    "            ),\n",
    "            Node(\n",
    "                \"C\",\n",
    "                data=dict(\n",
    "                    order_quantity=150,\n",
    "                    reorder_level=20,\n",
    "                    review_time=1,\n",
    "                ),\n",
    "                llc=1,\n",
    "                lead_time=LeadTime({1: 3, 2: 7}, default=3),\n",
    "                stock=Stock({\"C\": 200}),\n",
    "            ),\n",
    "            Node(\n",
    "                \"D\",\n",
    "                data=dict(\n",
    "                    order_quantity=200,\n",
    "                    reorder_level=20,\n",
    "                    review_time=2,\n",
    "                ),\n",
    "                llc=1,\n",
    "                lead_time=LeadTime(default=4),\n",
    "                orders=Orders({\"B\": 15}),\n",
    "                stock=Stock({\"D\": 40}),\n",
    "                pipeline=Pipeline([Receipt(sku_code=\"D\", eta=2, quantity=200)]),\n",
    "            ),\n",
    "        ],\n",
    "        edges=[\n",
    "            Edge(source=\"C\", destination=\"A\", number=2),\n",
    "            Edge(source=\"D\", destination=\"A\", number=1),\n",
    "            Edge(source=\"D\", destination=\"B\", number=3),\n",
    "        ],\n",
    "    )"
   ]
  },
  {
   "cell_type": "markdown",
   "metadata": {},
   "source": [
    "Keep in mind the simulation alters the supply-chain in-place so running the simulator twice on the same object might not give the same results."
   ]
  },
  {
   "cell_type": "code",
   "execution_count": null,
   "metadata": {},
   "outputs": [],
   "source": [
    "sim = Simulator(\n",
    "    supply_chain,\n",
    "    control_strategy=RSQ(supply_chain),\n",
    "    release_strategy=Fractional(),\n",
    ")"
   ]
  },
  {
   "cell_type": "code",
   "execution_count": null,
   "metadata": {},
   "outputs": [],
   "source": [
    "sim.run(10)"
   ]
  },
  {
   "cell_type": "code",
   "execution_count": null,
   "metadata": {},
   "outputs": [],
   "source": []
  }
 ],
 "metadata": {
  "interpreter": {
   "hash": "9dd6879ba8ce158afc4f579e0785b1b544b7dacecd8c1bbf2f58b425c5668b5d"
  },
  "kernelspec": {
   "display_name": "Python 3 (ipykernel)",
   "language": "python",
   "name": "python3"
  },
  "language_info": {
   "codemirror_mode": {
    "name": "ipython",
    "version": 3
   },
   "file_extension": ".py",
   "mimetype": "text/x-python",
   "name": "python",
   "nbconvert_exporter": "python",
   "pygments_lexer": "ipython3",
   "version": "3.9.1"
  }
 },
 "nbformat": 4,
 "nbformat_minor": 4
}
