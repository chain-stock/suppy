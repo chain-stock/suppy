{
 "cells": [
  {
   "cell_type": "markdown",
   "metadata": {},
   "source": [
    "# Custom Strategies\n",
    "This notebook demonstrates how to define your own Control and Release Strategy"
   ]
  },
  {
   "cell_type": "code",
   "execution_count": null,
   "metadata": {},
   "outputs": [],
   "source": [
    "from dataclasses import dataclass\n",
    "from math import ceil\n",
    "from supplychain_simulation import SupplyChain, Node, Sales, LeadTime, Edge, Simulator\n",
    "from supplychain_simulation.node import Orders, Stock\n",
    "from supplychain_simulation.pipeline import Pipeline, Receipt\n"
   ]
  },
  {
   "cell_type": "markdown",
   "metadata": {},
   "source": [
    "## Control Strategy\n",
    "The control strategy defines what orders to create for a Node in the supply-chain. "
   ]
  },
  {
   "cell_type": "code",
   "execution_count": null,
   "metadata": {},
   "outputs": [],
   "source": [
    "@dataclass\n",
    "class RSQ:\n",
    "    \"\"\"RSQ implementation of the supply-chain control strategy\n",
    "\n",
    "    Arguments:\n",
    "        supply_chain(SupplyChain) SupplyChain instance to fetch the inventory levels from\n",
    "    \"\"\"\n",
    "\n",
    "    supply_chain: SupplyChain\n",
    "\n",
    "    def get_orders(self, node: Node, period: int) -> Orders:\n",
    "        \"\"\"Return the quantity of `node` to order\"\"\"\n",
    "        data = node.data\n",
    "        # Get the inventory level for the requested node\n",
    "        inventory = self.supply_chain.inventory_assemblies_feasible(node)\n",
    "\n",
    "        order_quantity = 0\n",
    "        if (period % data[\"review_time\"] == 0) and (inventory < data[\"reorder_level\"]):\n",
    "            order_quantity = (\n",
    "                ceil((data[\"reorder_level\"] - inventory) / data[\"order_quantity\"])\n",
    "                * data[\"order_quantity\"]\n",
    "            )\n",
    "        orders = Orders()\n",
    "        orders[node] = order_quantity\n",
    "        return orders"
   ]
  },
  {
   "cell_type": "markdown",
   "metadata": {},
   "source": [
    "## Release Strategy\n",
    "The release strategy defines how much stock will be released from a Node and added to the pipeline"
   ]
  },
  {
   "cell_type": "code",
   "execution_count": null,
   "metadata": {},
   "outputs": [],
   "source": [
    "class Fractional:\n",
    "    \"\"\"Fractional implementation of the supply-chain release strategy\"\"\"\n",
    "\n",
    "    def get_releases(self, node: Node) -> Orders:\n",
    "        \"\"\"Build a set of Orders that should be released\"\"\"\n",
    "        releases = Orders()\n",
    "        orders = node.orders\n",
    "        stock = node.stock[node]\n",
    "\n",
    "        # determine the total amount ordered\n",
    "        order_total = orders.sum()\n",
    "        # if there are no orders\n",
    "        if order_total == 0:\n",
    "            # release nothing\n",
    "            return releases\n",
    "\n",
    "        # shortage can not be negative\n",
    "        shortage = max(order_total - stock, 0)\n",
    "\n",
    "        # create an order release where the shortage is divided relative to the\n",
    "        # share ordered by each sku.\n",
    "        for q_str, order in orders.items():\n",
    "            releases[q_str] = ceil(order - shortage * (order / order_total))\n",
    "\n",
    "        # In case the rounding caused more to be released than possible, reduce the largest\n",
    "        # release by 1 until the total released equals the available stock.\n",
    "        while releases.sum() > stock:\n",
    "            max_order_release = max(releases, key=lambda x: releases[x])\n",
    "            releases[max_order_release] -= 1\n",
    "\n",
    "        return releases\n"
   ]
  },
  {
   "cell_type": "markdown",
   "metadata": {},
   "source": [
    "## SupplyChain\n",
    "The SupplyChain defines all the Nodes and reletions between those nodes.\n",
    "Each Node contains information about the sales for that Node and the lead-time to apply for that Node"
   ]
  },
  {
   "cell_type": "code",
   "execution_count": null,
   "metadata": {
    "tags": []
   },
   "outputs": [],
   "source": [
    "# Build a supply-chain with 10 periods of sales\n",
    "supply_chain = SupplyChain(\n",
    "        nodes=[\n",
    "            Node(\n",
    "                \"A\",\n",
    "                data=dict(\n",
    "                    # Data needed for RSQ \n",
    "                    order_quantity=30,\n",
    "                    reorder_level=25,\n",
    "                    review_time=1,\n",
    "                    safety_stock=1,\n",
    "                ),\n",
    "                \n",
    "                # Simulation input data for this node\n",
    "                sales=Sales({1: [1], 2: [4], 3: [10], 4: [12], 5: [10], 6: [11], 7: [8], 8: [10], 9: [10], 10: [10]}),\n",
    "                lead_time=LeadTime(default=1),\n",
    "                \n",
    "                # Starting levels of stock/pipeline for this node\n",
    "                stock=Stock({\"A\": 70, \"C\": 5}),\n",
    "                pipeline=Pipeline([Receipt(sku_code=\"D\", eta=0, quantity=35)]),\n",
    "            ),\n",
    "            Node(\n",
    "                \"B\",\n",
    "                data=dict(\n",
    "                    order_quantity=25,\n",
    "                    reorder_level=40,\n",
    "                    review_time=1,\n",
    "                ),\n",
    "                backorders=5,\n",
    "                sales=Sales({1: [15], 2: [15], 3: [15], 4: [14], 5: [2], 6: [17], 7: [18], 8: [10], 9: [12], 10: [15]}),\n",
    "                lead_time=LeadTime(default=2),\n",
    "                stock=Stock({\"B\": 30}),\n",
    "                pipeline=Pipeline([Receipt(sku_code=\"D\", eta=1, quantity=75)]),\n",
    "            ),\n",
    "            Node(\n",
    "                \"C\",\n",
    "                data=dict(\n",
    "                    order_quantity=150,\n",
    "                    reorder_level=20,\n",
    "                    review_time=1,\n",
    "                ),\n",
    "                lead_time=LeadTime({1: 3, 2: 7}, default=3),\n",
    "                stock=Stock({\"C\": 200}),\n",
    "            ),\n",
    "            Node(\n",
    "                \"D\",\n",
    "                data=dict(\n",
    "                    order_quantity=200,\n",
    "                    reorder_level=20,\n",
    "                    review_time=2,\n",
    "                ),\n",
    "                lead_time=LeadTime(default=4),\n",
    "                orders=Orders({\"B\": 15}),\n",
    "                stock=Stock({\"D\": 40}),\n",
    "            ),\n",
    "        ],\n",
    "        edges=[\n",
    "            Edge(source=\"C\", destination=\"A\", number=2),\n",
    "            Edge(source=\"D\", destination=\"A\", number=1),\n",
    "            Edge(source=\"D\", destination=\"B\", number=3),\n",
    "        ],\n",
    "    )"
   ]
  },
  {
   "cell_type": "code",
   "execution_count": null,
   "metadata": {},
   "outputs": [],
   "source": [
    "sim = Simulator(\n",
    "    supply_chain,\n",
    "    control_strategy=RSQ(supply_chain),\n",
    "    release_strategy=Fractional(),\n",
    "    \n",
    ")"
   ]
  },
  {
   "cell_type": "code",
   "execution_count": null,
   "metadata": {},
   "outputs": [],
   "source": [
    "sim.run(10)"
   ]
  },
  {
   "cell_type": "code",
   "execution_count": null,
   "metadata": {},
   "outputs": [],
   "source": []
  }
 ],
 "metadata": {
  "interpreter": {
   "hash": "9dd6879ba8ce158afc4f579e0785b1b544b7dacecd8c1bbf2f58b425c5668b5d"
  },
  "kernelspec": {
   "display_name": "Python 3 (ipykernel)",
   "language": "python",
   "name": "python3"
  },
  "language_info": {
   "codemirror_mode": {
    "name": "ipython",
    "version": 3
   },
   "file_extension": ".py",
   "mimetype": "text/x-python",
   "name": "python",
   "nbconvert_exporter": "python",
   "pygments_lexer": "ipython3",
   "version": "3.9.1"
  }
 },
 "nbformat": 4,
 "nbformat_minor": 4
}
