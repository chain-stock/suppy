{
 "cells": [
  {
   "cell_type": "markdown",
   "metadata": {},
   "source": [
    "# Custom Metrics collector\n",
    "This notebook demonstrates a way to tap into the metrics collection at run-time\n",
    "and draw a graph from the collected metrics.\n",
    "\n",
    "This notebook requires matplotlib to be installed."
   ]
  },
  {
   "cell_type": "code",
   "execution_count": null,
   "metadata": {},
   "outputs": [],
   "source": [
    "from io import StringIO\n",
    "import json\n",
    "import matplotlib.pyplot as plt\n",
    "from supplychain_simulation import SupplyChain, Node, Sales, LeadTime, Edge, Simulator\n",
    "from supplychain_simulation.node import Orders, Stock\n",
    "from supplychain_simulation.pipeline import Pipeline, Receipt\n",
    "from supplychain_simulation.strategy import RSQ, Fractional\n",
    "from supplychain_simulation.types import MetricEntryType"
   ]
  },
  {
   "cell_type": "code",
   "execution_count": null,
   "metadata": {},
   "outputs": [],
   "source": [
    "# Build a supply-chain with 10 periods of sales\n",
    "supply_chain = SupplyChain(\n",
    "        nodes=[\n",
    "            Node(\n",
    "                \"A\",\n",
    "                data=dict(\n",
    "                    order_quantity=30,\n",
    "                    reorder_level=25,\n",
    "                    review_time=1,\n",
    "                    safety_stock=1,\n",
    "                ),\n",
    "                sales=Sales({1: [1], 2: [4], 3: [10], 4: [12], 5: [10], 6: [11], 7: [8], 8: [10], 9: [10], 10: [10]}),\n",
    "                lead_time=LeadTime(default=1),\n",
    "                stock=Stock({\"A\": 70, \"C\": 5}),\n",
    "                pipeline=Pipeline([Receipt(sku_code=\"D\", eta=0, quantity=35)]),\n",
    "            ),\n",
    "            Node(\n",
    "                \"B\",\n",
    "                data=dict(\n",
    "                    order_quantity=25,\n",
    "                    reorder_level=40,\n",
    "                    review_time=1,\n",
    "                ),\n",
    "                backorders=5,\n",
    "                sales=Sales({1: [15], 2: [15], 3: [15], 4: [14], 5: [2], 6: [17], 7: [18], 8: [10], 9: [12], 10: [15]}),\n",
    "                lead_time=LeadTime(default=2),\n",
    "                stock=Stock({\"B\": 30}),\n",
    "                pipeline=Pipeline([Receipt(sku_code=\"D\", eta=1, quantity=75)]),\n",
    "            ),\n",
    "            Node(\n",
    "                \"C\",\n",
    "                data=dict(\n",
    "                    order_quantity=150,\n",
    "                    reorder_level=20,\n",
    "                    review_time=1,\n",
    "                ),\n",
    "                lead_time=LeadTime({1: 3, 2: 7}, default=3),\n",
    "                stock=Stock({\"C\": 200}),\n",
    "            ),\n",
    "            Node(\n",
    "                \"D\",\n",
    "                data=dict(\n",
    "                    order_quantity=200,\n",
    "                    reorder_level=20,\n",
    "                    review_time=2,\n",
    "                ),\n",
    "                lead_time=LeadTime(default=4),\n",
    "                orders=Orders({\"B\": 15}),\n",
    "                stock=Stock({\"D\": 40}),\n",
    "            ),\n",
    "        ],\n",
    "        edges=[\n",
    "            Edge(source=\"C\", destination=\"A\", number=2),\n",
    "            Edge(source=\"D\", destination=\"A\", number=1),\n",
    "            Edge(source=\"D\", destination=\"B\", number=3),\n",
    "        ],\n",
    "    )"
   ]
  },
  {
   "cell_type": "code",
   "execution_count": null,
   "metadata": {},
   "outputs": [],
   "source": [
    "sim = Simulator(\n",
    "    supply_chain,\n",
    "    control_strategy=RSQ(supply_chain),\n",
    "    release_strategy=Fractional(),\n",
    ")"
   ]
  },
  {
   "cell_type": "markdown",
   "metadata": {},
   "source": [
    "## Collector\n",
    "The metrics are emitted to the `stream.write()` passed to `Simulator.run(stream)`.\n",
    "\n",
    "Each entry is a JSON serialized string of `MetricEntryType`."
   ]
  },
  {
   "cell_type": "code",
   "execution_count": null,
   "metadata": {},
   "outputs": [],
   "source": [
    "class MetricsCollector(StringIO):\n",
    "    \"\"\"Custom metrics stream\n",
    "    \n",
    "    Each metrics entry is a JSON string with the node, event and quantity\n",
    "    This collector aggregates the sales and backorders for each period\n",
    "    \"\"\"\n",
    "    def __init__(self):\n",
    "        super().__init__()\n",
    "        self.periods = []\n",
    "        self.sales = []\n",
    "        self.backorders = []\n",
    "        self.service = []\n",
    "        \n",
    "    def write(self, __s: str) -> int:\n",
    "        \"\"\"Parse the entry and collect the sales and backorders\"\"\"\n",
    "        log: MetricEntryType = json.loads(__s)\n",
    "        if log[\"event\"] in [\"sales\", \"backorders\"]:\n",
    "            # get the period of this entry\n",
    "            period = int(log[\"period\"])\n",
    "            if period not in self.periods:\n",
    "                # Add the period to the periods list\n",
    "                self.periods.append(period)\n",
    "                self.periods[:] = sorted(self.periods)\n",
    "                # ensure all lists are of the same length as periods\n",
    "                self.sales.append(0)\n",
    "                self.backorders.append(0)\n",
    "                self.service.append(0)\n",
    "            # get the list index of the current period\n",
    "            indx = self.periods.index(period)\n",
    "            # Add the quantity for each event\n",
    "            if log[\"event\"] == \"sales\":\n",
    "                self.sales[indx] += int(log[\"quantity\"])\n",
    "            elif log[\"event\"] == \"backorders\":\n",
    "                self.backorders[indx] += int(log[\"quantity\"])\n",
    "            self.service[indx] = self.sales[indx] / (self.sales[indx] + self.backorders[indx]) * 100"
   ]
  },
  {
   "cell_type": "code",
   "execution_count": null,
   "metadata": {},
   "outputs": [],
   "source": [
    "buffer = MetricsCollector()\n",
    "sim.run(10, stream=buffer)"
   ]
  },
  {
   "cell_type": "code",
   "execution_count": null,
   "metadata": {},
   "outputs": [],
   "source": [
    "fig, ax = plt.subplots()\n",
    "\n",
    "sales_line, = ax.plot(buffer.periods, buffer.sales, label=\"sales\")\n",
    "backorders_line, = ax.plot(buffer.periods, buffer.backorders, label=\"backorders\", color='tab:red')\n",
    "ax2 = ax.twinx()\n",
    "ax2.set(ylim=(0, 102))\n",
    "service_line, = ax2.plot(buffer.periods, buffer.service, label=\"service\", color='tab:green')\n",
    "\n",
    "ax2.set_ylabel('Service Level [%]', color='tab:green')\n",
    "\n",
    "plt.legend(handles=[sales_line, backorders_line], loc='lower right')\n",
    "\n",
    "plt.grid()\n",
    "plt.show()"
   ]
  },
  {
   "cell_type": "code",
   "execution_count": null,
   "metadata": {},
   "outputs": [],
   "source": []
  }
 ],
 "metadata": {
  "interpreter": {
   "hash": "9dd6879ba8ce158afc4f579e0785b1b544b7dacecd8c1bbf2f58b425c5668b5d"
  },
  "kernelspec": {
   "display_name": "Python 3 (ipykernel)",
   "language": "python",
   "name": "python3"
  },
  "language_info": {
   "codemirror_mode": {
    "name": "ipython",
    "version": 3
   },
   "file_extension": ".py",
   "mimetype": "text/x-python",
   "name": "python",
   "nbconvert_exporter": "python",
   "pygments_lexer": "ipython3",
   "version": "3.9.1"
  }
 },
 "nbformat": 4,
 "nbformat_minor": 4
}
